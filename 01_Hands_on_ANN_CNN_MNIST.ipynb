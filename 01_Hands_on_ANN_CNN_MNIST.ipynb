{
  "cells": [
    {
      "cell_type": "markdown",
      "metadata": {
        "id": "view-in-github",
        "colab_type": "text"
      },
      "source": [
        "<a href=\"https://colab.research.google.com/github/sahil301290/AIMLWorkshop2022/blob/main/01_Hands_on_ANN_CNN_MNIST.ipynb\" target=\"_parent\"><img src=\"https://colab.research.google.com/assets/colab-badge.svg\" alt=\"Open In Colab\"/></a>"
      ]
    },
    {
      "cell_type": "markdown",
      "source": [
        "\n",
        "##Getting System Information\n"
      ],
      "metadata": {
        "id": "sSHblknrd26O"
      }
    },
    {
      "cell_type": "code",
      "execution_count": null,
      "metadata": {
        "colab": {
          "base_uri": "https://localhost:8080/"
        },
        "id": "e00Sj-fmgRQ_",
        "outputId": "820664ab-8038-4b53-9c87-40d4f1970143"
      },
      "outputs": [
        {
          "output_type": "stream",
          "name": "stdout",
          "text": [
            "Fri Feb 25 00:44:31 2022       \n",
            "+-----------------------------------------------------------------------------+\n",
            "| NVIDIA-SMI 460.32.03    Driver Version: 460.32.03    CUDA Version: 11.2     |\n",
            "|-------------------------------+----------------------+----------------------+\n",
            "| GPU  Name        Persistence-M| Bus-Id        Disp.A | Volatile Uncorr. ECC |\n",
            "| Fan  Temp  Perf  Pwr:Usage/Cap|         Memory-Usage | GPU-Util  Compute M. |\n",
            "|                               |                      |               MIG M. |\n",
            "|===============================+======================+======================|\n",
            "|   0  Tesla T4            Off  | 00000000:00:04.0 Off |                    0 |\n",
            "| N/A   33C    P8     9W /  70W |      0MiB / 15109MiB |      0%      Default |\n",
            "|                               |                      |                  N/A |\n",
            "+-------------------------------+----------------------+----------------------+\n",
            "                                                                               \n",
            "+-----------------------------------------------------------------------------+\n",
            "| Processes:                                                                  |\n",
            "|  GPU   GI   CI        PID   Type   Process name                  GPU Memory |\n",
            "|        ID   ID                                                   Usage      |\n",
            "|=============================================================================|\n",
            "|  No running processes found                                                 |\n",
            "+-----------------------------------------------------------------------------+\n"
          ]
        }
      ],
      "source": [
        "!nvidia-smi"
      ]
    },
    {
      "cell_type": "markdown",
      "source": [
        "##Import tensorflow and keras"
      ],
      "metadata": {
        "id": "oElBxyVad_kr"
      }
    },
    {
      "cell_type": "code",
      "execution_count": null,
      "metadata": {
        "colab": {
          "base_uri": "https://localhost:8080/"
        },
        "id": "MDJtHFAXg_Ai",
        "outputId": "7e725811-3a92-436b-d6ac-acd55a3cf172"
      },
      "outputs": [
        {
          "output_type": "stream",
          "name": "stdout",
          "text": [
            "2.8.0\n"
          ]
        }
      ],
      "source": [
        "import tensorflow as tf\n",
        "print(tf.__version__)\n",
        "import keras"
      ]
    },
    {
      "cell_type": "markdown",
      "source": [
        "##Getting the dataset"
      ],
      "metadata": {
        "id": "A_Z04x6PeHxb"
      }
    },
    {
      "cell_type": "code",
      "execution_count": null,
      "metadata": {
        "id": "9pbMzcg2giZf"
      },
      "outputs": [],
      "source": [
        "mnist = tf.keras.datasets.mnist"
      ]
    },
    {
      "cell_type": "markdown",
      "source": [
        "##Defining the train and test set alongwith their labels"
      ],
      "metadata": {
        "id": "LCgdVOpKeLMj"
      }
    },
    {
      "cell_type": "code",
      "execution_count": null,
      "metadata": {
        "id": "0UkffkGwgzeu",
        "colab": {
          "base_uri": "https://localhost:8080/"
        },
        "outputId": "57592601-0f55-42a3-ce89-cb02001f28d0"
      },
      "outputs": [
        {
          "output_type": "stream",
          "name": "stdout",
          "text": [
            "Downloading data from https://storage.googleapis.com/tensorflow/tf-keras-datasets/mnist.npz\n",
            "11493376/11490434 [==============================] - 0s 0us/step\n",
            "11501568/11490434 [==============================] - 0s 0us/step\n"
          ]
        }
      ],
      "source": [
        "(training_images, training_labels), (test_images, test_labels) = mnist.load_data()"
      ]
    },
    {
      "cell_type": "markdown",
      "source": [
        "##Finding total number of images in training and test set"
      ],
      "metadata": {
        "id": "oUsOj3-0eOHk"
      }
    },
    {
      "cell_type": "code",
      "execution_count": null,
      "metadata": {
        "colab": {
          "base_uri": "https://localhost:8080/"
        },
        "id": "SYVRTGSchHM4",
        "outputId": "74b94289-2874-4f62-d935-2518a5c6ee72"
      },
      "outputs": [
        {
          "output_type": "stream",
          "name": "stdout",
          "text": [
            "60000\n",
            "10000\n"
          ]
        }
      ],
      "source": [
        "print(len(training_images))\n",
        "print(len(test_images))"
      ]
    },
    {
      "cell_type": "markdown",
      "source": [
        "##Reshaping and Normalizing training and test images"
      ],
      "metadata": {
        "id": "HlhFg_-5eQsM"
      }
    },
    {
      "cell_type": "code",
      "execution_count": null,
      "metadata": {
        "id": "mhFND-ZEhIzh"
      },
      "outputs": [],
      "source": [
        "training_images = training_images.reshape(60000, 28, 28, 1)\n",
        "training_images = training_images/255.0\n",
        "test_images = test_images.reshape(10000, 28, 28, 1)\n",
        "test_images = test_images/255.0"
      ]
    },
    {
      "cell_type": "markdown",
      "source": [
        "##Defining the ANN model"
      ],
      "metadata": {
        "id": "SdbyUUQfeS5O"
      }
    },
    {
      "cell_type": "code",
      "source": [
        "ANN = tf.keras.models.Sequential([\n",
        "  tf.keras.layers.Flatten(),\n",
        "  tf.keras.layers.Dense(32, activation=tf.nn.relu),\n",
        "  tf.keras.layers.Dense(10, activation=tf.nn.softmax)\n",
        "])\n",
        "ANN.compile(optimizer='adam', loss='sparse_categorical_crossentropy', metrics=['accuracy'])"
      ],
      "metadata": {
        "id": "9NhM3IFjVlB5"
      },
      "execution_count": null,
      "outputs": []
    },
    {
      "cell_type": "markdown",
      "source": [
        "##Defining the CNN model"
      ],
      "metadata": {
        "id": "iREjXZc5eVqE"
      }
    },
    {
      "cell_type": "code",
      "execution_count": null,
      "metadata": {
        "colab": {
          "base_uri": "https://localhost:8080/"
        },
        "id": "wOvDEPHqhKUU",
        "outputId": "36d76e20-2b31-4dd4-a832-d766418be412"
      },
      "outputs": [
        {
          "output_type": "stream",
          "name": "stdout",
          "text": [
            "Model: \"sequential_1\"\n",
            "_________________________________________________________________\n",
            " Layer (type)                Output Shape              Param #   \n",
            "=================================================================\n",
            " conv2d (Conv2D)             (None, 26, 26, 16)        160       \n",
            "                                                                 \n",
            " max_pooling2d (MaxPooling2D  (None, 13, 13, 16)       0         \n",
            " )                                                               \n",
            "                                                                 \n",
            " conv2d_1 (Conv2D)           (None, 11, 11, 16)        2320      \n",
            "                                                                 \n",
            " max_pooling2d_1 (MaxPooling  (None, 5, 5, 16)         0         \n",
            " 2D)                                                             \n",
            "                                                                 \n",
            " flatten_1 (Flatten)         (None, 400)               0         \n",
            "                                                                 \n",
            " dense_2 (Dense)             (None, 32)                12832     \n",
            "                                                                 \n",
            " dense_3 (Dense)             (None, 10)                330       \n",
            "                                                                 \n",
            "=================================================================\n",
            "Total params: 15,642\n",
            "Trainable params: 15,642\n",
            "Non-trainable params: 0\n",
            "_________________________________________________________________\n"
          ]
        }
      ],
      "source": [
        "CNN = tf.keras.models.Sequential([\n",
        "  tf.keras.layers.Conv2D(16,(3,3),activation = 'relu',input_shape=(28,28,1)),\n",
        "  tf.keras.layers.MaxPooling2D(2,2),\n",
        "  tf.keras.layers.Conv2D(16,(3,3),activation = 'relu'),\n",
        "  tf.keras.layers.MaxPooling2D(2,2),\n",
        "  tf.keras.layers.Flatten(),\n",
        "  tf.keras.layers.Dense(32, activation='relu'),\n",
        "  tf.keras.layers.Dense(10, activation='softmax')\n",
        "])\n",
        "CNN.summary()"
      ]
    },
    {
      "cell_type": "markdown",
      "source": [
        "##Defining the callback function to stop our training once the acceptable accuracy is reached"
      ],
      "metadata": {
        "id": "JXpqFodSeZjo"
      }
    },
    {
      "cell_type": "code",
      "execution_count": null,
      "metadata": {
        "id": "cmKsKS_ghMCZ"
      },
      "outputs": [],
      "source": [
        "class myCallback(tf.keras.callbacks.Callback):\n",
        "        def on_epoch_end(self, epoch, logs={}):\n",
        "            if(logs.get('accuracy') > 0.95):\n",
        "                print(\"\\nReached 95% accuracy so cancelling training!\")\n",
        "                self.model.stop_training = True\n",
        "    \n",
        "callbacks = myCallback()"
      ]
    },
    {
      "cell_type": "markdown",
      "source": [
        "\n",
        "##Compiling, Training, and Testing the ANN\n",
        "*   Compiling and model training with batch size = 50, epochs = 5, and optimizer = sgd\n",
        "*   Fitting the Model\n",
        "*   Model Evaluation on Test Image"
      ],
      "metadata": {
        "id": "M27wFnsXedEH"
      }
    },
    {
      "cell_type": "code",
      "execution_count": null,
      "metadata": {
        "colab": {
          "base_uri": "https://localhost:8080/"
        },
        "id": "qP4ZmqckhN8C",
        "outputId": "30a9f540-6fd9-4bd9-dec7-c2fe3c2a5edf"
      },
      "outputs": [
        {
          "output_type": "stream",
          "name": "stdout",
          "text": [
            "Epoch 1/5\n",
            "1200/1200 [==============================] - 5s 2ms/step - loss: 0.8169 - accuracy: 0.7989\n",
            "Epoch 2/5\n",
            "1200/1200 [==============================] - 2s 2ms/step - loss: 0.4017 - accuracy: 0.8903\n",
            "Epoch 3/5\n",
            "1200/1200 [==============================] - 2s 2ms/step - loss: 0.3456 - accuracy: 0.9035\n",
            "Epoch 4/5\n",
            "1200/1200 [==============================] - 3s 2ms/step - loss: 0.3148 - accuracy: 0.9118\n",
            "Epoch 5/5\n",
            "1200/1200 [==============================] - 2s 2ms/step - loss: 0.2926 - accuracy: 0.9183\n",
            "200/200 [==============================] - 0s 2ms/step - loss: 0.2708 - accuracy: 0.9249\n"
          ]
        }
      ],
      "source": [
        "ANN.compile(optimizer='sgd', loss='sparse_categorical_crossentropy', metrics=['accuracy'])\n",
        "ANN.fit(training_images, training_labels, batch_size = 50, epochs=5, callbacks=[callbacks])\n",
        "test_loss = ANN.evaluate(test_images, test_labels, batch_size=50)"
      ]
    },
    {
      "cell_type": "markdown",
      "source": [
        "\n",
        "##Compiling, Training, and Testing the CNN\n",
        "*   Compiling and model training with batch size = 50, epochs = 5, and optimizer = sgd\n",
        "*   Fitting the Model\n",
        "*   Model Evaluation on Test Image"
      ],
      "metadata": {
        "id": "4g5g5z6Re9Cd"
      }
    },
    {
      "cell_type": "code",
      "execution_count": null,
      "metadata": {
        "colab": {
          "base_uri": "https://localhost:8080/"
        },
        "id": "v6xfS3VahP2i",
        "outputId": "9f4abdf6-d15f-4e40-93b1-3a8357af5086"
      },
      "outputs": [
        {
          "output_type": "stream",
          "name": "stdout",
          "text": [
            "Epoch 1/5\n",
            "1200/1200 [==============================] - 11s 3ms/step - loss: 0.9241 - accuracy: 0.7189\n",
            "Epoch 2/5\n",
            "1200/1200 [==============================] - 3s 3ms/step - loss: 0.2309 - accuracy: 0.9299\n",
            "Epoch 3/5\n",
            "1192/1200 [============================>.] - ETA: 0s - loss: 0.1604 - accuracy: 0.9514\n",
            "Reached 95% accuracy so cancelling training!\n",
            "1200/1200 [==============================] - 3s 3ms/step - loss: 0.1607 - accuracy: 0.9514\n",
            "200/200 [==============================] - 1s 2ms/step - loss: 0.1294 - accuracy: 0.9597\n"
          ]
        }
      ],
      "source": [
        "CNN.compile(optimizer='sgd', loss='sparse_categorical_crossentropy', metrics=['accuracy'])\n",
        "CNN.fit(training_images, training_labels, batch_size = 50, epochs=5, callbacks=[callbacks])\n",
        "test_loss = CNN.evaluate(test_images, test_labels, batch_size=50)"
      ]
    },
    {
      "cell_type": "markdown",
      "source": [
        "END OF CODE"
      ],
      "metadata": {
        "id": "7j--vSfNfIeL"
      }
    }
  ],
  "metadata": {
    "accelerator": "GPU",
    "colab": {
      "name": "01_Hands-on_ANN_CNN_MNIST.ipynb",
      "provenance": [],
      "authorship_tag": "ABX9TyOhJgFVFLT4et6vkCu4sbAl",
      "include_colab_link": true
    },
    "kernelspec": {
      "display_name": "Python 3",
      "name": "python3"
    },
    "language_info": {
      "name": "python"
    }
  },
  "nbformat": 4,
  "nbformat_minor": 0
}